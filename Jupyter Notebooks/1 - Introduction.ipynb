{
 "cells": [
  {
   "cell_type": "markdown",
   "id": "3dc376b8-589a-44de-beb0-36e30052d7d7",
   "metadata": {},
   "source": [
    "# 1 - Introduction"
   ]
  },
  {
   "cell_type": "markdown",
   "id": "d570a43a-f286-459f-b251-347754c511ab",
   "metadata": {},
   "source": [
    "## 1.1 - Table of Content\n",
    "Problem Definition [[ReadMe.md](ReadMe.md)] \\\n",
    "Data Preparation & Data-Driven Insights [[Exploratory Data Analysis](Jupyter%20Notebooks/1%20-%20Exploratory%20Data%20Analysis%20(EDA).ipynb), [Machine Learning](Jupyter%20Notebooks/2%20-%20Machine%20Learning.ipynb), [Additional Machine Learning](Jupyter%20Notebooks/3%20-%20Additional%20Machine%20Learning%20(Logistic%20Regression,%20K%20Nearest%20Neighbours,%20Random%20Forest).ipynb)] \\\n",
    "Exploratory Data Analysis [[Exploratory Data Analysis](Jupyter%20Notebooks/1%20-%20Exploratory%20Data%20Analysis%20(EDA).ipynb)] \\\n",
    "Machine Learning (Binary Tree Classification) [[Machine Learning](Jupyter%20Notebooks/2%20-%20Machine%20Learning.ipynb)] \\\n",
    "Additional Machine Learning (Logistic Regression, K-Nearest Neighbours, Random Forest) [[Additional Machine Learning](Jupyter%20Notebooks/3%20-%20Additional%20Machine%20Learning%20(Logistic%20Regression,%20K%20Nearest%20Neighbours,%20Random%20Forest).ipynb)]\n"
   ]
  },
  {
   "cell_type": "markdown",
   "id": "7fa80b7b-0916-454c-bdb4-d100f9408b12",
   "metadata": {},
   "source": [
    "## 1.2 - Problem Definition\n",
    "In the fast-changing telco industry, customer retention is a rising issuing issue as competing telcos offer more attractive deals to lure potential customers. Hence, we wish to understand why customers switch telco companies and aim to predict the likelihood of existing customers changing their telco provider so that telcos can implement changes to retain customers before it is too late. \n",
    "\n",
    "In today's fast-changing telecommunications industry, the battle for customer loyalty and retention has become increasingly fierce. Telcos are continually innovating and offering attractive deals to entice potential customers, leading to a growing concern around customer churn. Studies have shown acquiring a new customer can cost five to twenty-five times more than retaining an existing customer (Singh & Khan, 2018). Furthermore, increasing customer retention by 5% can increase profits from 25-95% (Gallo, 2014). Hence, high customer retention rates greatly impacts a telco's business. As the allure of competitive deals tempts customers to switch providers, it has become imperative to delve into the reasons behind this trend. Therefore, our aim is to uncover the motivations driving customers to switch telco companies and develop predictive models that can anticipate the likelihood of existing customers changing their provider. By gaining insights into these dynamics, telcos can proactively implement strategies to retain their customers before they consider switching.\n",
    "\n",
    "### 1.2.1 - References\n",
    "- Gallo, A. (2014, October 29). The Value of Keeping the Right Customers. Harvard Business Review. https://hbr.org/2014/10/the-value-of-keeping-the-right-customers\n",
    "- Singh, R., & Khan, I. A. (2018). An approach to increase customer retention and loyalty in B2C world. International journal of scientific and research publications, 2(11) (ISSN: 2250-3153). http://www.ijsrp.org/research-paper-1112.php?rp=P11433"
   ]
  },
  {
   "cell_type": "markdown",
   "id": "572cb320-967b-4a60-8eaa-489e81b2ddfa",
   "metadata": {},
   "source": [
    "## 1.3 - Understanding the dataset\n",
    "The dataset we will be using is from an IBM Sample Dataset for Telco Customer Churn, available on Kaggle (https://www.kaggle.com/blastchar/telco-customer-churn)."
   ]
  },
  {
   "cell_type": "code",
   "execution_count": 5,
   "id": "83469114-0db6-4ad7-bb26-89ca52b96391",
   "metadata": {},
   "outputs": [
    {
     "data": {
      "text/plain": [
       "Index(['customerID', 'gender', 'SeniorCitizen', 'Partner', 'Dependents',\n",
       "       'tenure', 'PhoneService', 'MultipleLines', 'InternetService',\n",
       "       'OnlineSecurity', 'OnlineBackup', 'DeviceProtection', 'TechSupport',\n",
       "       'StreamingTV', 'StreamingMovies', 'Contract', 'PaperlessBilling',\n",
       "       'PaymentMethod', 'MonthlyCharges', 'TotalCharges', 'Churn'],\n",
       "      dtype='object')"
      ]
     },
     "execution_count": 5,
     "metadata": {},
     "output_type": "execute_result"
    }
   ],
   "source": [
    "import pandas as pd\n",
    "df_initial = pd.read_csv('Telco_Customer_Churn.csv')\n",
    "df_initial.columns"
   ]
  },
  {
   "cell_type": "markdown",
   "id": "60550a8d-8ef1-4902-bb2f-73470eaf2f55",
   "metadata": {},
   "source": [
    "The dataset features can be broadly categorized into Three sections: User Information, Services Information and Contract & Payment Information. Below is a summary of the features available in the `Telco_Customer_Churn.csv` dataset.\n"
   ]
  },
  {
   "cell_type": "markdown",
   "id": "d9f155f7-8282-48a5-bdec-a6d41d73152d",
   "metadata": {},
   "source": [
    "### 1.3.1 - User Information\n",
    "- `customerID` (Numerical): Unique ID to identify each customer.\n",
    "- `gender` (Categorical): The customer's gender (male or female).\n",
    "- `SeniorCitizen` (Categorical): Whether the customer is a senior citizen or not (1 for Yes, 0 for No).\n",
    "- `Partner` (Categorical): Whether the customer has a partner or not (Yes or No).\n",
    "- `Dependents` (Categorical): Whether the customer is living with dependents (children, parents, grandparents) or not (Yes, No).\n",
    "- `tenure` (Numerical): Number of months the customer has stayed with the telco company.\n",
    "- `PhoneService` (Categorical): Whether the customer has a phone service subscription (Yes or No).\n"
   ]
  },
  {
   "cell_type": "markdown",
   "id": "7b9e8227-407d-4c27-b817-ed583f4e74f3",
   "metadata": {},
   "source": [
    "### 1.3.2 - Services Information\n",
    "- `MultipleLines` (Categorical): Whether the customer has multiple lines or not (Yes, No, or No phone service).\n",
    "- `InternetService` (Categorical): Customer's internet service provider (DSL, Fiber optic, or No internet service).\n",
    "- `OnlineSecurity` (Categorical): Whether the customer has online security service or not (Yes, No, or No internet service).\n",
    "- `OnlineBackup` (Categorical): Whether the customer has online backup service or not (Yes, No, or No internet service).\n",
    "- `DeviceProtection` (Categorical): Whether the customer has device protection service or not (Yes, No, or No internet service).\n",
    "- `TechSupport` (Categorical): Whether the customer has tech support service or not (Yes, No, or No internet service).\n",
    "- `StreamingTV` (Categorical): Whether the customer has streaming TV service or not (Yes, No, or No internet service).\n",
    "- `StreamingMovies` (Categorical): Whether the customer has streaming movies service or not (Yes, No, or No internet service).\n"
   ]
  },
  {
   "cell_type": "markdown",
   "id": "671cb71d-bbb6-453d-ae8a-24dff3cc1a32",
   "metadata": {},
   "source": [
    "### 1.3.3 - Contract and Payment Information\n",
    "- `Contract` (Categorical): The contract term of the customer (Month-to-month, One year, Two year).\n",
    "- `PaperlessBilling` (Categorical): Whether the customer has paperless billing or not (Yes, No).\n",
    "- `PaymentMethod` (Categorical): The customer's payment method (Electronic check, Mailed check, Bank transfer (automatic), Credit card (automatic)).\n",
    "- `MonthlyCharges` (Numerical): The total amount charged to the customer monthly.\n",
    "- `TotalCharges` (Numerical): The total amount charged to the customer."
   ]
  },
  {
   "cell_type": "markdown",
   "id": "e9d0f0e9-94d8-410e-a0de-312893263219",
   "metadata": {},
   "source": [
    "### 1.3.4 - Prediction Target\n",
    "- `Churn` (Categorical): Whether the customer churned or not (Yes or No)."
   ]
  }
 ],
 "metadata": {
  "kernelspec": {
   "display_name": "Python 3 (ipykernel)",
   "language": "python",
   "name": "python3"
  },
  "language_info": {
   "codemirror_mode": {
    "name": "ipython",
    "version": 3
   },
   "file_extension": ".py",
   "mimetype": "text/x-python",
   "name": "python",
   "nbconvert_exporter": "python",
   "pygments_lexer": "ipython3",
   "version": "3.8.10"
  }
 },
 "nbformat": 4,
 "nbformat_minor": 5
}
